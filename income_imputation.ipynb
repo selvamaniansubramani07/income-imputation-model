{
 "cells": [
  {
   "cell_type": "code",
   "execution_count": null,
   "id": "ff208a5b",
   "metadata": {},
   "outputs": [],
   "source": [
    "# Step 1: Load & Explore Data\n",
    "from dbm import error"
   ]
  },
  {
   "cell_type": "code",
   "execution_count": null,
   "id": "ad8dcfb9",
   "metadata": {},
   "outputs": [],
   "source": [
    "import pandas as pd\n",
    "from scipy.cluster.hierarchy import cut_tree\n",
    "from sklearn.metrics import label_ranking_average_precision_score"
   ]
  },
  {
   "cell_type": "code",
   "execution_count": null,
   "id": "3049cb46",
   "metadata": {},
   "outputs": [],
   "source": [
    "df = pd.read_csv(\"Income_Imputation_Base_Data.csv\", low_memory=False)"
   ]
  },
  {
   "cell_type": "code",
   "execution_count": null,
   "id": "6a3e60f3",
   "metadata": {},
   "outputs": [],
   "source": [
    "print(\"Shape:\",df.shape)                                                        #Rows & Columns\n",
    "print(\"Columns:\",df.columns)                                                    #Show initial column names\n",
    "print(df.head())                                                                #Preview Of Rows\n",
    "print(df.isna().mean().sort_values(ascending=False).head(12).round(3))"
   ]
  },
  {
   "cell_type": "markdown",
   "id": "d9ebb503",
   "metadata": {},
   "source": [
    "Step 2: Cleaning\n",
    "Drop useless columns\n",
    "Tier & Margin are 100% missing, safe to drop"
   ]
  },
  {
   "cell_type": "code",
   "execution_count": null,
   "id": "c2a33af2",
   "metadata": {},
   "outputs": [],
   "source": [
    "import numpy as np"
   ]
  },
  {
   "cell_type": "code",
   "execution_count": null,
   "id": "9684e3b2",
   "metadata": {},
   "outputs": [],
   "source": [
    "df = df.drop(columns=[\"Tier\",\"Margin\"])"
   ]
  },
  {
   "cell_type": "code",
   "execution_count": null,
   "id": "527e9d4a",
   "metadata": {},
   "outputs": [],
   "source": [
    "if \"loan_application_no\" in df.columns:                             #removing duplicate records\n",
    "    before = df.shape[0]\n",
    "    df     = df.drop_duplicates(subset=[\"loan_application_no\"])\n",
    "    after  = df.shape[0]\n",
    "    print(f\"Dropped {before-after} Duplicate Rows!\")"
   ]
  },
  {
   "cell_type": "code",
   "execution_count": null,
   "id": "6ff20fbe",
   "metadata": {
    "lines_to_next_cell": 1
   },
   "outputs": [],
   "source": [
    "df[\"disbursed_date\"]   = pd.to_datetime(df[\"disbursed_date\"], errors=\"coerce\")\n",
    "df[\"disbursed_amount\"] = pd.to_numeric(df[\"disbursed_amount\"], errors=\"coerce\")\n",
    "df[\"score\"]            = pd.to_numeric(df[\"score\"], errors=\"coerce\")\n",
    "df[\"age\"]              = pd.to_numeric(df[\"age\"], errors=\"coerce\")"
   ]
  },
  {
   "cell_type": "code",
   "execution_count": null,
   "id": "205c9f2c",
   "metadata": {
    "lines_to_next_cell": 1
   },
   "outputs": [],
   "source": [
    "# cap extreme outliers\n",
    "def winsorize(s):\n",
    "    q01, q99 = s.quantile([0.01,0.99])\n",
    "    return s.clip(q01,q99)"
   ]
  },
  {
   "cell_type": "code",
   "execution_count": null,
   "id": "19371994",
   "metadata": {},
   "outputs": [],
   "source": [
    "for col in [\"disbursed_amount\", \"final_tpv\"]:\n",
    "    df[col] = winsorize(df[col])"
   ]
  },
  {
   "cell_type": "code",
   "execution_count": null,
   "id": "5f9e3181",
   "metadata": {},
   "outputs": [],
   "source": [
    "# filling categorical nulls with 'Unknown'\n",
    "df.columns = df.columns.str.lower()\n",
    "for col in [\"gender\", \"industryy\", \"status\", \"city\", \"state\", \"source_entity_name\"]:\n",
    "    df[col] = df[col].fillna(\"unknown\")"
   ]
  },
  {
   "cell_type": "code",
   "execution_count": null,
   "id": "77d04a94",
   "metadata": {},
   "outputs": [],
   "source": [
    "# filling numeric nulls with median\n",
    "for col in [\"score\", \"age\", \"disbursed_amount\", \"final_tpv\"]:\n",
    "    df[col] = df[col].fillna(df[col].median())"
   ]
  },
  {
   "cell_type": "code",
   "execution_count": null,
   "id": "04b74186",
   "metadata": {},
   "outputs": [],
   "source": [
    "print(\"After cleaning:\", df.shape)\n",
    "print(df.isna().mean().sort_values(ascending=False).head(10))"
   ]
  },
  {
   "cell_type": "code",
   "execution_count": null,
   "id": "3b81e4d3",
   "metadata": {},
   "outputs": [],
   "source": [
    "# Step 3: Feature Engineering\n",
    "df[\"disbursed_year\"]    = df[\"disbursed_date\"].dt.year\n",
    "df[\"disbursed_month\"]   = df[\"disbursed_date\"].dt.month\n",
    "df[\"disbursed_quarter\"] = df[\"disbursed_date\"].dt.quarter"
   ]
  },
  {
   "cell_type": "code",
   "execution_count": null,
   "id": "0b045896",
   "metadata": {},
   "outputs": [],
   "source": [
    "# Risk bands from score\n",
    "df[\"score_band\"] = pd.cut(\n",
    "    df[\"score\"],\n",
    "    bins=[-np.inf,600,700,750, np.inf],\n",
    "    labels=[\"<600\",\"600-699\",\"700-749\",\">750\"]\n",
    ").astype(str)"
   ]
  },
  {
   "cell_type": "code",
   "execution_count": null,
   "id": "e14fa486",
   "metadata": {
    "lines_to_next_cell": 2
   },
   "outputs": [],
   "source": [
    "# Risk bands from age\n",
    "df[\"age_band\"] = pd.cut(\n",
    "    df[\"age\"],\n",
    "    bins=[-np.inf,21,25,30,35,45,60,np.inf],\n",
    "    labels=[\"<=21\",\"22-25\",\"26-30\",\"31-35\",\"36-45\",\"46-60\",\"60+\"]\n",
    ").astype(str)"
   ]
  },
  {
   "cell_type": "markdown",
   "id": "97f6cb85",
   "metadata": {},
   "source": [
    "Metro flag"
   ]
  },
  {
   "cell_type": "code",
   "execution_count": null,
   "id": "b27e0fb0",
   "metadata": {},
   "outputs": [],
   "source": [
    "metros = {\"mumbai\",\"delhi\",\"new delhi\",\"chennai\",\"bengaluru\",\"bangalore\",\"hyderabad\",\"kolkata\",\"pune\",\"ahmedabad\"}\n",
    "df[\"city_clean\"] = df [\"city\"].astype(str).str.strip().str.lower()\n",
    "df[\"is_metro_city\"] = df[\"city_clean\"].isin(metros).astype(int)"
   ]
  },
  {
   "cell_type": "code",
   "execution_count": null,
   "id": "395a2d46",
   "metadata": {},
   "outputs": [],
   "source": [
    "#Ratios\n",
    "df[\"loan_to_tpv\"]     = df[\"disbursed_amount\"] / (df[\"final_tpv\"].replace(0, np.nan))\n",
    "df[\"amount_per_age\"]  = df[\"disbursed_amount\"] / df[\"age\"].replace(0, np.nan)\n",
    "df[\"amount_x_score\"]  = df[\"disbursed_amount\"] * df[\"score\"]"
   ]
  },
  {
   "cell_type": "code",
   "execution_count": null,
   "id": "3e55a925",
   "metadata": {},
   "outputs": [],
   "source": [
    "print(\"After feature engineering:\", df.shape)\n",
    "print(df.head())"
   ]
  },
  {
   "cell_type": "code",
   "execution_count": null,
   "id": "e88b13dd",
   "metadata": {},
   "outputs": [],
   "source": [
    "#Model Development\n",
    "from sklearn.model_selection import train_test_split"
   ]
  },
  {
   "cell_type": "code",
   "execution_count": null,
   "id": "ba73e80c",
   "metadata": {},
   "outputs": [],
   "source": [
    "y = df[\"final_tpv\"]"
   ]
  },
  {
   "cell_type": "code",
   "execution_count": null,
   "id": "49f80dfe",
   "metadata": {},
   "outputs": [],
   "source": [
    "# drop columns that are IDs or directly leak target\n",
    "X = df.drop(columns=[\n",
    "    \"final_tpv\",                                                                            # target itself\n",
    "    \"loan_application_no\",                                                                  # ID, not useful\n",
    "    \"disbursed_date\",                                                               # already extracted year/month\n",
    "    \"city\", \"city_clean\"                                                            # metro flag already made\n",
    "])"
   ]
  },
  {
   "cell_type": "code",
   "execution_count": null,
   "id": "ecd7ebc9",
   "metadata": {},
   "outputs": [],
   "source": [
    "X = X.replace([np.inf, -np.inf], np.nan)\n",
    "X = X.fillna(0)"
   ]
  },
  {
   "cell_type": "code",
   "execution_count": null,
   "id": "292fc356",
   "metadata": {},
   "outputs": [],
   "source": [
    "# convert categorical to numeric\n",
    "X = pd.get_dummies(X, drop_first=True)"
   ]
  },
  {
   "cell_type": "code",
   "execution_count": null,
   "id": "12fbe372",
   "metadata": {},
   "outputs": [],
   "source": [
    "print(\"Any missing values left?\", X.isna().sum().sum())"
   ]
  },
  {
   "cell_type": "code",
   "execution_count": null,
   "id": "2ad01a91",
   "metadata": {},
   "outputs": [],
   "source": [
    "print(\"Feature matrix shape:\", X.shape)\n",
    "print(\"Target shape:\", y.shape)"
   ]
  },
  {
   "cell_type": "code",
   "execution_count": null,
   "id": "feecdc27",
   "metadata": {},
   "outputs": [],
   "source": [
    "X_train, X_test, y_train, y_test = train_test_split(X, y, test_size=0.2, random_state=42)"
   ]
  },
  {
   "cell_type": "code",
   "execution_count": null,
   "id": "d8f2edff",
   "metadata": {},
   "outputs": [],
   "source": [
    "#Baseline Model: Linear Regression\n",
    "# Linear regression is our baseline model ---> quick, interpretable, easy to compare.\n",
    "from sklearn.linear_model import LinearRegression\n",
    "from sklearn.metrics import mean_absolute_error, mean_squared_error, r2_score\n",
    "import numpy as np"
   ]
  },
  {
   "cell_type": "code",
   "execution_count": null,
   "id": "c06c1fa1",
   "metadata": {},
   "outputs": [],
   "source": [
    "# train model\n",
    "lin_reg = LinearRegression()\n",
    "lin_reg.fit(X_train, y_train)"
   ]
  },
  {
   "cell_type": "code",
   "execution_count": null,
   "id": "ba4dc3eb",
   "metadata": {},
   "outputs": [],
   "source": [
    "# predictions\n",
    "y_pred_lr = lin_reg.predict(X_test)"
   ]
  },
  {
   "cell_type": "code",
   "execution_count": null,
   "id": "ae02693e",
   "metadata": {},
   "outputs": [],
   "source": [
    "# metrics\n",
    "mae = mean_absolute_error(y_test, y_pred_lr)\n",
    "rmse = np.sqrt(mean_squared_error(y_test, y_pred_lr))\n",
    "r2 = r2_score(y_test, y_pred_lr)"
   ]
  },
  {
   "cell_type": "code",
   "execution_count": null,
   "id": "3f7a0efe",
   "metadata": {},
   "outputs": [],
   "source": [
    "print(\"Linear Regression Results:\")\n",
    "print(\"MAE :\", mae)\n",
    "print(\"RMSE:\", rmse)\n",
    "print(\"R²  :\", r2)"
   ]
  },
  {
   "cell_type": "markdown",
   "id": "e0655966",
   "metadata": {},
   "source": [
    "Random Forest model"
   ]
  },
  {
   "cell_type": "code",
   "execution_count": null,
   "id": "d7cf4f1a",
   "metadata": {},
   "outputs": [],
   "source": [
    "from sklearn.ensemble import RandomForestRegressor"
   ]
  },
  {
   "cell_type": "code",
   "execution_count": null,
   "id": "bcf53f26",
   "metadata": {},
   "outputs": [],
   "source": [
    "rf = RandomForestRegressor(n_estimators=200, random_state=42)\n",
    "rf.fit(X_train, y_train)"
   ]
  },
  {
   "cell_type": "code",
   "execution_count": null,
   "id": "fb49d951",
   "metadata": {},
   "outputs": [],
   "source": [
    "y_pred_rf = rf.predict(X_test)"
   ]
  },
  {
   "cell_type": "code",
   "execution_count": null,
   "id": "71283012",
   "metadata": {},
   "outputs": [],
   "source": [
    "mae_rf = mean_absolute_error(y_test, y_pred_rf)\n",
    "rmse_rf = np.sqrt(mean_squared_error(y_test, y_pred_rf))\n",
    "r2_rf = r2_score(y_test, y_pred_rf)"
   ]
  },
  {
   "cell_type": "code",
   "execution_count": null,
   "id": "5d69a6ab",
   "metadata": {},
   "outputs": [],
   "source": [
    "print(\"\\nRandom Forest Results:\")\n",
    "print(\"MAE :\", mae_rf)\n",
    "print(\"RMSE:\", rmse_rf)\n",
    "print(\"R²  :\", r2_rf)"
   ]
  },
  {
   "cell_type": "code",
   "execution_count": null,
   "id": "18f08f1f",
   "metadata": {},
   "outputs": [],
   "source": [
    "# Gradient Boosting Model\n",
    "from sklearn.ensemble import GradientBoostingRegressor"
   ]
  },
  {
   "cell_type": "code",
   "execution_count": null,
   "id": "2dac2402",
   "metadata": {},
   "outputs": [],
   "source": [
    "gbr = GradientBoostingRegressor(n_estimators=300, learning_rate=0.1, max_depth=3, random_state=42)\n",
    "gbr.fit(X_train, y_train)"
   ]
  },
  {
   "cell_type": "code",
   "execution_count": null,
   "id": "9ab1c0f0",
   "metadata": {},
   "outputs": [],
   "source": [
    "# predictions\n",
    "y_pred_gbr = gbr.predict(X_test)"
   ]
  },
  {
   "cell_type": "code",
   "execution_count": null,
   "id": "200367f6",
   "metadata": {},
   "outputs": [],
   "source": [
    "# metrics\n",
    "mae_gbr = mean_absolute_error(y_test, y_pred_gbr)\n",
    "rmse_gbr = np.sqrt(mean_squared_error(y_test, y_pred_gbr))\n",
    "r2_gbr = r2_score(y_test, y_pred_gbr)"
   ]
  },
  {
   "cell_type": "code",
   "execution_count": null,
   "id": "7deab473",
   "metadata": {},
   "outputs": [],
   "source": [
    "print(\"\\nGradient Boosting Results:\")\n",
    "print(\"MAE :\", mae_gbr)\n",
    "print(\"RMSE:\", rmse_gbr)\n",
    "print(\"R²  :\", r2_gbr)"
   ]
  },
  {
   "cell_type": "markdown",
   "id": "a8aa864e",
   "metadata": {},
   "source": [
    "Cross-validation,validating RF isn’t overfitting(5-fold on Random Forest)"
   ]
  },
  {
   "cell_type": "code",
   "execution_count": null,
   "id": "708f6f3d",
   "metadata": {},
   "outputs": [],
   "source": [
    "from sklearn.model_selection import KFold, cross_val_score\n",
    "import numpy as np"
   ]
  },
  {
   "cell_type": "code",
   "execution_count": null,
   "id": "5fea8f8e",
   "metadata": {},
   "outputs": [],
   "source": [
    "kf = KFold(n_splits=5, shuffle=True, random_state=42)"
   ]
  },
  {
   "cell_type": "code",
   "execution_count": null,
   "id": "c7b5c2b0",
   "metadata": {},
   "outputs": [],
   "source": [
    "# scikit-learn returns negative errors for loss metrics; flip sign and take sqrt for RMSE\n",
    "cv_mae  = -cross_val_score(rf, X, y, scoring=\"neg_mean_absolute_error\", cv=kf)\n",
    "cv_mse  = -cross_val_score(rf, X, y, scoring=\"neg_mean_squared_error\", cv=kf)\n",
    "cv_rmse = np.sqrt(cv_mse)\n",
    "cv_r2   =  cross_val_score(rf, X, y, scoring=\"r2\", cv=kf)"
   ]
  },
  {
   "cell_type": "code",
   "execution_count": null,
   "id": "3c7e8ffa",
   "metadata": {},
   "outputs": [],
   "source": [
    "print(\"\\nCross-validation (Random Forest, 5 folds):\")\n",
    "print(f\"MAE  : {cv_mae.mean():.2f} ± {cv_mae.std():.2f}\")\n",
    "print(f\"RMSE : {cv_rmse.mean():.2f} ± {cv_rmse.std():.2f}\")\n",
    "print(f\"R²   : {cv_r2.mean():.3f} ± {cv_r2.std():.3f}\")"
   ]
  },
  {
   "cell_type": "code",
   "execution_count": null,
   "id": "80a3e5c6",
   "metadata": {},
   "outputs": [],
   "source": [
    "#importance of feature what drives predicted income\n",
    "import pandas as pd"
   ]
  },
  {
   "cell_type": "code",
   "execution_count": null,
   "id": "849498eb",
   "metadata": {},
   "outputs": [],
   "source": [
    "fi = pd.DataFrame({\n",
    "    \"feature\": X.columns,\n",
    "    \"importance\": rf.feature_importances_\n",
    "}).sort_values(\"importance\", ascending=False)"
   ]
  },
  {
   "cell_type": "code",
   "execution_count": null,
   "id": "80620ede",
   "metadata": {},
   "outputs": [],
   "source": [
    "print(\"\\nTop 15 features:\")\n",
    "print(fi.head(15))"
   ]
  },
  {
   "cell_type": "markdown",
   "id": "ab325af4",
   "metadata": {},
   "source": [
    "Score every row + save all deliverables"
   ]
  },
  {
   "cell_type": "code",
   "execution_count": null,
   "id": "41790e38",
   "metadata": {},
   "outputs": [],
   "source": [
    "import json\n",
    "from joblib import dump"
   ]
  },
  {
   "cell_type": "code",
   "execution_count": null,
   "id": "b64181d3",
   "metadata": {},
   "outputs": [],
   "source": [
    "# 1) predict income for each row (using best model → RF or GB)\n",
    "df[\"predicted_income\"] = rf.predict(X)   # you can switch rf → gbr if GB is better"
   ]
  },
  {
   "cell_type": "code",
   "execution_count": null,
   "id": "43e620b3",
   "metadata": {},
   "outputs": [],
   "source": [
    "# 2) save cleaned + predictions\n",
    "df.to_csv(\"cleaned_with_predicted_income.csv\", index=False)"
   ]
  },
  {
   "cell_type": "code",
   "execution_count": null,
   "id": "a32634d4",
   "metadata": {},
   "outputs": [],
   "source": [
    "# 3) save feature importance (from RF)\n",
    "fi.to_csv(\"feature_importance.csv\", index=False)"
   ]
  },
  {
   "cell_type": "code",
   "execution_count": null,
   "id": "c209d6d9",
   "metadata": {},
   "outputs": [],
   "source": [
    "# 4) save metrics (LR, RF, GB, + CV)\n",
    "metrics = {\n",
    "    \"linear_regression\": {\n",
    "        \"MAE\": float(mae),\n",
    "        \"RMSE\": float(rmse),\n",
    "        \"R2\": float(r2)\n",
    "    },\n",
    "    \"random_forest\": {\n",
    "        \"MAE\": float(mae_rf),\n",
    "        \"RMSE\": float(rmse_rf),\n",
    "        \"R2\": float(r2_rf)\n",
    "    },\n",
    "    \"gradient_boosting\": {\n",
    "        \"MAE\": float(mae_gb),\n",
    "        \"RMSE\": float(rmse_gb),\n",
    "        \"R2\": float(r2_gb)\n",
    "    },\n",
    "    \"cv_random_forest\": {\n",
    "        \"MAE_mean\": float(cv_mae.mean()), \"MAE_std\": float(cv_mae.std()),\n",
    "        \"RMSE_mean\": float(cv_rmse.mean()), \"RMSE_std\": float(cv_rmse.std()),\n",
    "        \"R2_mean\": float(cv_r2.mean()), \"R2_std\": float(cv_r2.std())\n",
    "    }\n",
    "}"
   ]
  },
  {
   "cell_type": "code",
   "execution_count": null,
   "id": "88a498b9",
   "metadata": {},
   "outputs": [],
   "source": [
    "with open(\"model_metrics.json\", \"w\") as f:\n",
    "    json.dump(metrics, f, indent=2)"
   ]
  },
  {
   "cell_type": "code",
   "execution_count": null,
   "id": "b4b2b145",
   "metadata": {},
   "outputs": [],
   "source": [
    "# 5) save the trained model artifact (choose best one — here RF)\n",
    "dump(rf, \"best_income_imputer.joblib\")\n",
    "# If GB is better, you can also save it like this:\n",
    "# dump(gbr, \"best_income_imputer.joblib\")"
   ]
  },
  {
   "cell_type": "code",
   "execution_count": null,
   "id": "4e2265f3",
   "metadata": {},
   "outputs": [],
   "source": [
    "print(\"\\nArtifacts written:\")\n",
    "print(\" - cleaned_with_predicted_income.csv\")\n",
    "print(\" - feature_importance.csv\")\n",
    "print(\" - model_metrics.json\")\n",
    "print(\" - best_income_imputer.joblib\")\n",
    "print(\" - feature_importance_top15.png\")"
   ]
  },
  {
   "cell_type": "code",
   "execution_count": null,
   "id": "86ba2dd8",
   "metadata": {},
   "outputs": [],
   "source": []
  },
  {
   "cell_type": "code",
   "execution_count": null,
   "id": "a0e435ca",
   "metadata": {},
   "outputs": [],
   "source": []
  },
  {
   "cell_type": "code",
   "execution_count": null,
   "id": "d513b6a5",
   "metadata": {},
   "outputs": [],
   "source": []
  },
  {
   "cell_type": "code",
   "execution_count": null,
   "id": "cdbfa49a",
   "metadata": {
    "lines_to_next_cell": 2
   },
   "outputs": [],
   "source": []
  }
 ],
 "metadata": {
  "jupytext": {
   "cell_metadata_filter": "-all",
   "main_language": "python",
   "notebook_metadata_filter": "-all"
  }
 },
 "nbformat": 4,
 "nbformat_minor": 5
}
